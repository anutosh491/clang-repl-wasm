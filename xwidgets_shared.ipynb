{
  "metadata": {
    "kernelspec": {
      "name": "xcpp23",
      "display_name": "C++23",
      "language": "cpp"
    },
    "language_info": {
      "codemirror_mode": "text/x-c++src",
      "file_extension": ".cpp",
      "mimetype": "text/x-c++src",
      "name": "C++",
      "version": "23"
    }
  },
  "nbformat_minor": 5,
  "nbformat": 4,
  "cells": [
    {
      "id": "04091cff-9a56-4a68-ac22-0cf8a64f0e14",
      "cell_type": "code",
      "source": "#include <iostream>",
      "metadata": {
        "trusted": true
      },
      "outputs": [],
      "execution_count": 1
    },
    {
      "id": "5c2212cd-466b-4136-abb8-a851b4c81dc0",
      "cell_type": "code",
      "source": "#include \"xcpp/xdisplay.hpp\"",
      "metadata": {
        "trusted": true
      },
      "outputs": [],
      "execution_count": 2
    },
    {
      "id": "3a483c67-76bd-4f8d-9320-6c0616cbcdea",
      "cell_type": "code",
      "source": "#include <xeus/xcomm.hpp>",
      "metadata": {
        "trusted": true
      },
      "outputs": [],
      "execution_count": 3
    },
    {
      "id": "dc4e815c-1811-4d2a-a080-20ad8f8e8960",
      "cell_type": "code",
      "source": "#include <dlfcn.h>\n#include <iostream>\n\nvoid* handle = dlopen(\"/drive/libxwidgets.so\", RTLD_NOW | RTLD_GLOBAL);\nif (!handle) {\n    std::cerr << \"Failed to load Xwidgets: \" << dlerror() << std::endl;\n} else {\n    std::cout << \"Xwidgets loaded successfully!\" << std::endl;\n}",
      "metadata": {
        "trusted": true
      },
      "outputs": [
        {
          "name": "stdout",
          "output_type": "stream",
          "text": "Xwidgets loaded successfully!\n"
        }
      ],
      "execution_count": 4
    },
    {
      "id": "0f616d5a-ee77-47ed-ad61-605b83510f40",
      "cell_type": "code",
      "source": "#include \"xwidgets/xslider.hpp\"\nxw::slider<double> slider;",
      "metadata": {
        "trusted": true
      },
      "outputs": [],
      "execution_count": 6
    },
    {
      "id": "b0fa5489-c9ac-4ce7-82dc-734f5a01ab87",
      "cell_type": "code",
      "source": "#include <xeus/xinterpreter.hpp>",
      "metadata": {
        "trusted": true
      },
      "outputs": [],
      "execution_count": 7
    },
    {
      "id": "dc5f1178-9242-432a-9146-060e0f9da87f",
      "cell_type": "code",
      "source": "auto* target = xeus::get_interpreter().comm_manager().target(\"jupyter.widget\");\nif (target)\n{\n    std::cout << \"✅ 'jupyter.widget' target is registered.\\n\";\n}\nelse\n{\n    std::cout << \"❌ 'jupyter.widget' target is NOT registered.\\n\";\n}",
      "metadata": {
        "trusted": true
      },
      "outputs": [
        {
          "name": "stdout",
          "output_type": "stream",
          "text": "✅ 'jupyter.widget' target is registered.\n"
        }
      ],
      "execution_count": 8
    },
    {
      "id": "c10daf49-bf85-44c4-baa3-c1810fa137c6",
      "cell_type": "code",
      "source": "slider.value = 20;\nslider.max = 40;\nslider.style().handle_color = \"blue\";\nslider.orientation = \"vertical\";\nslider.description = \"A slider\";",
      "metadata": {
        "trusted": true
      },
      "outputs": [],
      "execution_count": 9
    },
    {
      "id": "fdb3ae51-71ae-4746-a4b8-54d6264eedb4",
      "cell_type": "code",
      "source": "#include <thread>\n#include <chrono>\nstd::this_thread::sleep_for(std::chrono::seconds(4));\nxcpp::display(slider);",
      "metadata": {
        "trusted": true
      },
      "outputs": [
        {
          "output_type": "display_data",
          "data": {
            "application/vnd.jupyter.widget-view+json": {
              "model_id": "c04ec76748f4430ab0b7276c08f7fdb1",
              "version_major": 2,
              "version_minor": 1
            },
            "text/plain": "A Jupyter widget with unique id: c04ec76748f4430ab0b7276c08f7fdb1"
          },
          "metadata": {}
        }
      ],
      "execution_count": 10
    },
    {
      "id": "c3529388-6722-42a6-9c68-108531c01304",
      "cell_type": "code",
      "source": "#include \"xwidgets/xregistry.hpp\"\n\nauto& registry = xw::get_transport_registry();",
      "metadata": {
        "trusted": true
      },
      "outputs": [],
      "execution_count": 12
    },
    {
      "id": "72cafb3a-a9e4-4d78-8a59-9ac56917138a",
      "cell_type": "code",
      "source": "for (const auto& [id, _] : registry)\n{\n    std::cout << \"Registered widget ID: \" << id << std::endl;\n}",
      "metadata": {
        "trusted": true
      },
      "outputs": [
        {
          "name": "stdout",
          "output_type": "stream",
          "text": "🧩 Registered widget ID: 33fc4798102a44f086f40e39cb1fcd59\n🧩 Registered widget ID: 7304b719191846e1a9efb8eed8fea5b2\n🧩 Registered widget ID: 8c49ffba9a154afe9b9d91579de5de21\n🧩 Registered widget ID: c04ec76748f4430ab0b7276c08f7fdb1\n"
        }
      ],
      "execution_count": 13
    },
    {
      "id": "88e81744-304c-4ebe-b90d-1d6799154e71",
      "cell_type": "code",
      "source": "std::cout << mime_bundle_repr(slider).dump(2) << std::endl;",
      "metadata": {
        "trusted": true
      },
      "outputs": [
        {
          "name": "stdout",
          "output_type": "stream",
          "text": "{\n  \"application/vnd.jupyter.widget-view+json\": {\n    \"model_id\": \"c04ec76748f4430ab0b7276c08f7fdb1\",\n    \"version_major\": 2,\n    \"version_minor\": 1\n  },\n  \"text/plain\": \"A Jupyter widget with unique id: c04ec76748f4430ab0b7276c08f7fdb1\"\n}\n"
        }
      ],
      "execution_count": 14
    },
    {
      "id": "e3c4f119-5ed3-41e3-9e94-ba249cbbaecd",
      "cell_type": "code",
      "source": "",
      "metadata": {
        "trusted": true
      },
      "outputs": [],
      "execution_count": null
    }
  ]
}